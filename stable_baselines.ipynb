{
 "cells": [
  {
   "cell_type": "code",
   "execution_count": 1,
   "metadata": {},
   "outputs": [
    {
     "name": "stdout",
     "output_type": "stream",
     "text": [
      "WARNING:tensorflow:From C:\\Users\\rklly\\AppData\\Local\\Packages\\PythonSoftwareFoundation.Python.3.11_qbz5n2kfra8p0\\LocalCache\\local-packages\\Python311\\site-packages\\keras\\src\\losses.py:2976: The name tf.losses.sparse_softmax_cross_entropy is deprecated. Please use tf.compat.v1.losses.sparse_softmax_cross_entropy instead.\n",
      "\n"
     ]
    }
   ],
   "source": [
    "import gymnasium as gym\n",
    "import yfinance as yf\n",
    "import numpy as np\n",
    "from stable_baselines3 import A2C, SAC, TD3\n",
    "from stable_baselines3.common.logger import Logger\n",
    "from stable_baselines3.common.env_checker import check_env\n",
    "from stable_baselines3.common.env_util import make_vec_env\n",
    "from stable_baselines3.common.policies import ActorCriticPolicy\n",
    "\n",
    "import gym_anytrading\n",
    "from gym_anytrading.envs import StocksEnv\n",
    "import os\n",
    "os.environ['TF_CPP_MIN_LOG_LEVEL'] = '3'  # or any {'0', '1', '2'}\n",
    "import warnings\n",
    "from classes.logger import NeptuneLogger, NeptuneCallback, TensorboardCallback\n",
    "warnings.simplefilter(action='ignore', category=FutureWarning)\n",
    "warnings.simplefilter(action='ignore', category=Warning)"
   ]
  },
  {
   "cell_type": "code",
   "execution_count": 2,
   "metadata": {},
   "outputs": [
    {
     "data": {
      "text/html": [
       "<div>\n",
       "<style scoped>\n",
       "    .dataframe tbody tr th:only-of-type {\n",
       "        vertical-align: middle;\n",
       "    }\n",
       "\n",
       "    .dataframe tbody tr th {\n",
       "        vertical-align: top;\n",
       "    }\n",
       "\n",
       "    .dataframe thead th {\n",
       "        text-align: right;\n",
       "    }\n",
       "</style>\n",
       "<table border=\"1\" class=\"dataframe\">\n",
       "  <thead>\n",
       "    <tr style=\"text-align: right;\">\n",
       "      <th></th>\n",
       "      <th>Open</th>\n",
       "      <th>High</th>\n",
       "      <th>Low</th>\n",
       "      <th>Close</th>\n",
       "      <th>Volume</th>\n",
       "    </tr>\n",
       "    <tr>\n",
       "      <th>Date</th>\n",
       "      <th></th>\n",
       "      <th></th>\n",
       "      <th></th>\n",
       "      <th></th>\n",
       "      <th></th>\n",
       "    </tr>\n",
       "  </thead>\n",
       "  <tbody>\n",
       "    <tr>\n",
       "      <th>2020-01-02 00:00:00-05:00</th>\n",
       "      <td>72.151614</td>\n",
       "      <td>73.213531</td>\n",
       "      <td>71.895881</td>\n",
       "      <td>73.152641</td>\n",
       "      <td>135480400</td>\n",
       "    </tr>\n",
       "    <tr>\n",
       "      <th>2020-01-03 00:00:00-05:00</th>\n",
       "      <td>72.373271</td>\n",
       "      <td>73.208674</td>\n",
       "      <td>72.214960</td>\n",
       "      <td>72.441467</td>\n",
       "      <td>146322800</td>\n",
       "    </tr>\n",
       "    <tr>\n",
       "      <th>2020-01-06 00:00:00-05:00</th>\n",
       "      <td>71.554913</td>\n",
       "      <td>73.057662</td>\n",
       "      <td>71.301611</td>\n",
       "      <td>73.018692</td>\n",
       "      <td>118387200</td>\n",
       "    </tr>\n",
       "    <tr>\n",
       "      <th>2020-01-07 00:00:00-05:00</th>\n",
       "      <td>73.028440</td>\n",
       "      <td>73.286611</td>\n",
       "      <td>72.453647</td>\n",
       "      <td>72.675285</td>\n",
       "      <td>108872000</td>\n",
       "    </tr>\n",
       "    <tr>\n",
       "      <th>2020-01-08 00:00:00-05:00</th>\n",
       "      <td>72.375713</td>\n",
       "      <td>74.148816</td>\n",
       "      <td>72.375713</td>\n",
       "      <td>73.844368</td>\n",
       "      <td>132079200</td>\n",
       "    </tr>\n",
       "    <tr>\n",
       "      <th>...</th>\n",
       "      <td>...</td>\n",
       "      <td>...</td>\n",
       "      <td>...</td>\n",
       "      <td>...</td>\n",
       "      <td>...</td>\n",
       "    </tr>\n",
       "    <tr>\n",
       "      <th>2022-12-23 00:00:00-05:00</th>\n",
       "      <td>130.192282</td>\n",
       "      <td>131.683945</td>\n",
       "      <td>128.919399</td>\n",
       "      <td>131.127060</td>\n",
       "      <td>63814900</td>\n",
       "    </tr>\n",
       "    <tr>\n",
       "      <th>2022-12-27 00:00:00-05:00</th>\n",
       "      <td>130.649722</td>\n",
       "      <td>130.679555</td>\n",
       "      <td>128.004505</td>\n",
       "      <td>129.307220</td>\n",
       "      <td>69007800</td>\n",
       "    </tr>\n",
       "    <tr>\n",
       "      <th>2022-12-28 00:00:00-05:00</th>\n",
       "      <td>128.949229</td>\n",
       "      <td>130.301670</td>\n",
       "      <td>125.170356</td>\n",
       "      <td>125.339409</td>\n",
       "      <td>85438400</td>\n",
       "    </tr>\n",
       "    <tr>\n",
       "      <th>2022-12-29 00:00:00-05:00</th>\n",
       "      <td>127.278559</td>\n",
       "      <td>129.754716</td>\n",
       "      <td>127.020010</td>\n",
       "      <td>128.889557</td>\n",
       "      <td>75703700</td>\n",
       "    </tr>\n",
       "    <tr>\n",
       "      <th>2022-12-30 00:00:00-05:00</th>\n",
       "      <td>127.696239</td>\n",
       "      <td>129.227672</td>\n",
       "      <td>126.721683</td>\n",
       "      <td>129.207779</td>\n",
       "      <td>77034200</td>\n",
       "    </tr>\n",
       "  </tbody>\n",
       "</table>\n",
       "<p>756 rows × 5 columns</p>\n",
       "</div>"
      ],
      "text/plain": [
       "                                 Open        High         Low       Close  \\\n",
       "Date                                                                        \n",
       "2020-01-02 00:00:00-05:00   72.151614   73.213531   71.895881   73.152641   \n",
       "2020-01-03 00:00:00-05:00   72.373271   73.208674   72.214960   72.441467   \n",
       "2020-01-06 00:00:00-05:00   71.554913   73.057662   71.301611   73.018692   \n",
       "2020-01-07 00:00:00-05:00   73.028440   73.286611   72.453647   72.675285   \n",
       "2020-01-08 00:00:00-05:00   72.375713   74.148816   72.375713   73.844368   \n",
       "...                               ...         ...         ...         ...   \n",
       "2022-12-23 00:00:00-05:00  130.192282  131.683945  128.919399  131.127060   \n",
       "2022-12-27 00:00:00-05:00  130.649722  130.679555  128.004505  129.307220   \n",
       "2022-12-28 00:00:00-05:00  128.949229  130.301670  125.170356  125.339409   \n",
       "2022-12-29 00:00:00-05:00  127.278559  129.754716  127.020010  128.889557   \n",
       "2022-12-30 00:00:00-05:00  127.696239  129.227672  126.721683  129.207779   \n",
       "\n",
       "                              Volume  \n",
       "Date                                  \n",
       "2020-01-02 00:00:00-05:00  135480400  \n",
       "2020-01-03 00:00:00-05:00  146322800  \n",
       "2020-01-06 00:00:00-05:00  118387200  \n",
       "2020-01-07 00:00:00-05:00  108872000  \n",
       "2020-01-08 00:00:00-05:00  132079200  \n",
       "...                              ...  \n",
       "2022-12-23 00:00:00-05:00   63814900  \n",
       "2022-12-27 00:00:00-05:00   69007800  \n",
       "2022-12-28 00:00:00-05:00   85438400  \n",
       "2022-12-29 00:00:00-05:00   75703700  \n",
       "2022-12-30 00:00:00-05:00   77034200  \n",
       "\n",
       "[756 rows x 5 columns]"
      ]
     },
     "execution_count": 2,
     "metadata": {},
     "output_type": "execute_result"
    }
   ],
   "source": [
    "ticker = \"AAPL\"\n",
    "stock_data_train = yf.Ticker(ticker).history(start=\"2020-01-01\", end=\"2023-01-01\")\n",
    "stock_data_train = stock_data_train.drop(columns=[\"Dividends\", \"Stock Splits\"])\n",
    "stock_data_train"
   ]
  },
  {
   "cell_type": "code",
   "execution_count": 3,
   "metadata": {},
   "outputs": [
    {
     "data": {
      "text/plain": [
       "Open      float64\n",
       "High      float64\n",
       "Low       float64\n",
       "Close     float64\n",
       "Volume      int64\n",
       "dtype: object"
      ]
     },
     "execution_count": 3,
     "metadata": {},
     "output_type": "execute_result"
    }
   ],
   "source": [
    "stock_data_train.dtypes"
   ]
  },
  {
   "cell_type": "code",
   "execution_count": 4,
   "metadata": {},
   "outputs": [],
   "source": [
    "make_kwargs_train={\"df\": stock_data_train,\n",
    "            \"frame_bound\": (5,len(stock_data_train)),\n",
    "            \"window_size\": 5,\n",
    "            \"available_capital\": 10000}\n",
    "gym.register(id=\"A2C-v0\", entry_point='classes.stocks_env_box:StocksEnv')\n",
    "env = gym.make('A2C-v0', apply_api_compatibility=False, **make_kwargs_train)\n",
    "check_env(env)\n"
   ]
  },
  {
   "cell_type": "code",
   "execution_count": 5,
   "metadata": {},
   "outputs": [
    {
     "data": {
      "text/plain": [
       "(756,)"
      ]
     },
     "execution_count": 5,
     "metadata": {},
     "output_type": "execute_result"
    }
   ],
   "source": [
    "env.prices.shape"
   ]
  },
  {
   "cell_type": "code",
   "execution_count": 6,
   "metadata": {},
   "outputs": [
    {
     "data": {
      "application/vnd.jupyter.widget-view+json": {
       "model_id": "9c64e477541c405d87e8c0c4be84f891",
       "version_major": 2,
       "version_minor": 0
      },
      "text/plain": [
       "Output()"
      ]
     },
     "metadata": {},
     "output_type": "display_data"
    },
    {
     "data": {
      "text/html": [
       "<pre style=\"white-space:pre;overflow-x:auto;line-height:normal;font-family:Menlo,'DejaVu Sans Mono',consolas,'Courier New',monospace\"></pre>\n"
      ],
      "text/plain": []
     },
     "metadata": {},
     "output_type": "display_data"
    },
    {
     "data": {
      "text/html": [
       "<pre style=\"white-space:pre;overflow-x:auto;line-height:normal;font-family:Menlo,'DejaVu Sans Mono',consolas,'Courier New',monospace\">\n",
       "</pre>\n"
      ],
      "text/plain": [
       "\n"
      ]
     },
     "metadata": {},
     "output_type": "display_data"
    },
    {
     "data": {
      "text/plain": [
       "<stable_baselines3.a2c.a2c.A2C at 0x1c9b46bdad0>"
      ]
     },
     "execution_count": 6,
     "metadata": {},
     "output_type": "execute_result"
    }
   ],
   "source": [
    "model = A2C(\"MlpPolicy\", env, gamma=0.99, verbose=0, tensorboard_log=\"./a2c_stock_tensorboard/\")\n",
    "model.learn(total_timesteps=10000, progress_bar=True, log_interval=1, callback=TensorboardCallback(verbose=1))"
   ]
  },
  {
   "cell_type": "code",
   "execution_count": 7,
   "metadata": {},
   "outputs": [],
   "source": [
    "%reload_ext tensorboard"
   ]
  },
  {
   "cell_type": "code",
   "execution_count": 8,
   "metadata": {},
   "outputs": [
    {
     "data": {
      "text/html": [
       "\n",
       "      <iframe id=\"tensorboard-frame-a6516bb6ca45fce0\" width=\"100%\" height=\"800\" frameborder=\"0\">\n",
       "      </iframe>\n",
       "      <script>\n",
       "        (function() {\n",
       "          const frame = document.getElementById(\"tensorboard-frame-a6516bb6ca45fce0\");\n",
       "          const url = new URL(\"/\", window.location);\n",
       "          const port = 6007;\n",
       "          if (port) {\n",
       "            url.port = port;\n",
       "          }\n",
       "          frame.src = url;\n",
       "        })();\n",
       "      </script>\n",
       "    "
      ],
      "text/plain": [
       "<IPython.core.display.HTML object>"
      ]
     },
     "metadata": {},
     "output_type": "display_data"
    }
   ],
   "source": [
    "%tensorboard --logdir ./a2c_stock_tensorboard/"
   ]
  },
  {
   "cell_type": "code",
   "execution_count": 9,
   "metadata": {},
   "outputs": [
    {
     "data": {
      "text/plain": [
       "2147483647"
      ]
     },
     "execution_count": 9,
     "metadata": {},
     "output_type": "execute_result"
    }
   ],
   "source": [
    "np.iinfo(np.int32).max"
   ]
  },
  {
   "cell_type": "code",
   "execution_count": 10,
   "metadata": {},
   "outputs": [
    {
     "name": "stdout",
     "output_type": "stream",
     "text": [
      "4294967295\n"
     ]
    }
   ],
   "source": [
    "print(2**32 - 1)"
   ]
  },
  {
   "cell_type": "code",
   "execution_count": 11,
   "metadata": {},
   "outputs": [
    {
     "name": "stdout",
     "output_type": "stream",
     "text": [
      "2147483647\n"
     ]
    }
   ],
   "source": [
    "print(2**31-1)"
   ]
  },
  {
   "cell_type": "code",
   "execution_count": null,
   "metadata": {},
   "outputs": [],
   "source": []
  }
 ],
 "metadata": {
  "kernelspec": {
   "display_name": "Python 3",
   "language": "python",
   "name": "python3"
  },
  "language_info": {
   "codemirror_mode": {
    "name": "ipython",
    "version": 3
   },
   "file_extension": ".py",
   "mimetype": "text/x-python",
   "name": "python",
   "nbconvert_exporter": "python",
   "pygments_lexer": "ipython3",
   "version": "3.11.7"
  },
  "orig_nbformat": 4
 },
 "nbformat": 4,
 "nbformat_minor": 2
}
